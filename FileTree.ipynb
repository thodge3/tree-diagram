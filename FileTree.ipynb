{
 "cells": [
  {
   "cell_type": "code",
   "execution_count": 46,
   "metadata": {},
   "outputs": [],
   "source": [
    "def list2tree(file_path):\n",
    "        \"\"\"Convert list to tree.\"\"\"\n",
    "        tree_data = [{\n",
    "            \"path\": \"root\",\n",
    "            \"children\": []\n",
    "        }]\n",
    "        for f in file_path:\n",
    "            node_path = tree_data[0]\n",
    "            pathes = f.split(\"\\\\\")\n",
    "            for i, p in enumerate(pathes):\n",
    "                length = len(node_path[\"children\"])\n",
    "                if not length or node_path[\"children\"][length - 1][\"path\"] != p:\n",
    "                    # create new node\n",
    "                    new_node = {\n",
    "                        \"path\": p,\n",
    "                        \"name\": p,\n",
    "                    }\n",
    "                    if i != len(pathes) - 1:  # middle path\n",
    "                        new_node[\"children\"] = list()\n",
    "                    node_path[\"children\"].append(new_node)\n",
    "                    node_path = new_node\n",
    "                else:\n",
    "                    node_path = node_path[\"children\"][length - 1]\n",
    "        return tree_data"
   ]
  },
  {
   "cell_type": "code",
   "execution_count": 47,
   "metadata": {},
   "outputs": [],
   "source": [
    "import os\n",
    "import glob\n",
    "import json\n"
   ]
  },
  {
   "cell_type": "code",
   "execution_count": 48,
   "metadata": {},
   "outputs": [],
   "source": [
    "static_path = ['D:\\\\PythonScratch\\\\.ipynb_checkpoints',\n",
    "               'D:\\\\PythonScratch\\\\.vscode',\n",
    "               'D:\\\\PythonScratch\\\\FileTree.ipynb',\n",
    "               'D:\\\\PythonScratch\\\\NetworkProcessor.ipynb',\n",
    "               'D:\\\\PythonScratch\\\\react-app-server']"
   ]
  },
  {
   "cell_type": "code",
   "execution_count": 49,
   "metadata": {},
   "outputs": [
    {
     "name": "stdout",
     "output_type": "stream",
     "text": [
      "['D:\\\\PythonScratch\\\\.ipynb_checkpoints', 'D:\\\\PythonScratch\\\\.vscode', 'D:\\\\PythonScratch\\\\data.json', 'D:\\\\PythonScratch\\\\FileTree.ipynb', 'D:\\\\PythonScratch\\\\NetworkProcessor.ipynb', 'D:\\\\PythonScratch\\\\react-app-server']\n"
     ]
    }
   ],
   "source": [
    "files_path = [os.path.abspath(x) for x in os.listdir()]\n",
    "print(files_path)"
   ]
  },
  {
   "cell_type": "code",
   "execution_count": 71,
   "metadata": {},
   "outputs": [],
   "source": [
    "mylist = [os.path.abspath(f) for f in glob.glob(r'C:\\Users\\THODG\\OneDrive\\**', recursive=True) if os.path.isfile(f) == True]"
   ]
  },
  {
   "cell_type": "code",
   "execution_count": 72,
   "metadata": {},
   "outputs": [
    {
     "data": {
      "text/plain": [
       "1754"
      ]
     },
     "execution_count": 72,
     "metadata": {},
     "output_type": "execute_result"
    }
   ],
   "source": [
    "len(mylist)"
   ]
  },
  {
   "cell_type": "code",
   "execution_count": 73,
   "metadata": {},
   "outputs": [],
   "source": [
    "directory_tree = list2tree(mylist)"
   ]
  },
  {
   "cell_type": "code",
   "execution_count": 75,
   "metadata": {},
   "outputs": [],
   "source": [
    "with open('data.json', 'w') as f:\n",
    "    json.dump(directory_tree, f)"
   ]
  },
  {
   "cell_type": "code",
   "execution_count": null,
   "metadata": {},
   "outputs": [],
   "source": []
  }
 ],
 "metadata": {
  "kernelspec": {
   "display_name": "Python 3",
   "language": "python",
   "name": "python3"
  },
  "language_info": {
   "codemirror_mode": {
    "name": "ipython",
    "version": 3
   },
   "file_extension": ".py",
   "mimetype": "text/x-python",
   "name": "python",
   "nbconvert_exporter": "python",
   "pygments_lexer": "ipython3",
   "version": "3.7.7"
  }
 },
 "nbformat": 4,
 "nbformat_minor": 4
}
